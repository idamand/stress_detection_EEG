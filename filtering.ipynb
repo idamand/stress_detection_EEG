{
 "cells": [
  {
   "cell_type": "code",
   "execution_count": 2,
   "metadata": {},
   "outputs": [],
   "source": [
    "import mne\n",
    "import os\n",
    "from mne.preprocessing import (create_eog_epochs, create_ecg_epochs,\n",
    "                               compute_proj_ecg, compute_proj_eog)\n",
    "import utils.variables as var\n",
    "import scipy.io as sio"
   ]
  },
  {
   "cell_type": "code",
   "execution_count": null,
   "metadata": {},
   "outputs": [],
   "source": [
    "class Filtering:\n",
    "    '''\n",
    "    A Python class that handles all of the filtering of data, including saving the filtered data to new .mat-files\n",
    "    '''\n",
    "    root         = '/Users/idaandreassen/Desktop/MASTER/stress_detection_EEG/Data'\n",
    "    dir_raw      = root + var.DIR_RAW\n",
    "    dir_filtered = root + var.DIR_FILTERED\n",
    "    dir_psd      = root + var.DIR_PSD\n",
    "\n",
    "    sfreq = var.SFREQ\n",
    "    ch_type = 'eeg'\n",
    "    n_channels = var.NUM_CHANNELS\n",
    "\n",
    "    def __init__(self, sub_nr, ses_nr, run_nr):\n",
    "        self.sub_nr = sub_nr\n",
    "        self.ses_nr = ses_nr\n",
    "        self.run_nr = run_nr\n",
    "\n",
    "        self.load_data(self)\n",
    "\n",
    "        #Create MNE RawArray\n",
    "        info = mne.create_info(8, sfreq=self.sfreq, ch_types=self.ch_type, verbose=None)\n",
    "        self.raw_arr = mne.io.RawArray(self.data, info)\n",
    "        \n",
    "        mne.rename_channels(self.raw_arr.info, var.MAPPING)\n",
    "\n",
    "\n",
    "\n",
    "    #-----------------------------------------------FUNCTIONS-----------------------------------------\n",
    "\n",
    "    def load_data(self):\n",
    "        dir      = self.dir_raw\n",
    "        data_key = 'raw_eeg_data'\n",
    "\n",
    "        # Load one recording\n",
    "        filename  = f\"/sub-{self.sub_nr}_ses-{self.ses_nr}_run-{self.run_nr}.mat\"\n",
    "        f         = dir + filename\n",
    "        self.data = sio.loadmat(f)[data_key]\n",
    "\n",
    "    def save_data(self):\n",
    "        "
   ]
  }
 ],
 "metadata": {
  "kernelspec": {
   "display_name": "mne",
   "language": "python",
   "name": "python3"
  },
  "language_info": {
   "codemirror_mode": {
    "name": "ipython",
    "version": 3
   },
   "file_extension": ".py",
   "mimetype": "text/x-python",
   "name": "python",
   "nbconvert_exporter": "python",
   "pygments_lexer": "ipython3",
   "version": "3.9.7"
  },
  "orig_nbformat": 4
 },
 "nbformat": 4,
 "nbformat_minor": 2
}
