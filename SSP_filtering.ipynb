{
 "cells": [
  {
   "cell_type": "code",
   "execution_count": 2,
   "metadata": {},
   "outputs": [],
   "source": [
    "import mne\n",
    "import os\n",
    "from mne.preprocessing import (create_eog_epochs, create_ecg_epochs,\n",
    "                               compute_proj_ecg, compute_proj_eog)\n",
    "import utils.variables as var"
   ]
  },
  {
   "cell_type": "code",
   "execution_count": null,
   "metadata": {},
   "outputs": [],
   "source": [
    "root = '/Users/idaandreassen/Desktop/MASTER/stress_detection_EEG/Data'\n",
    "dir_raw = root + var.DIR_RAW\n",
    "dir_filtered = root + var.DIR_FILTERED\n",
    "\n",
    "sfreq = var.SFREQ\n",
    "ch_type = 'eeg'\n",
    "n_channels = var.NUM_CHANNELS\n",
    "\n",
    "dir = self.dir_raw\n",
    "data_key = 'raw_eeg_data'\n",
    "# Load one recording\n",
    "filename = f\"/sub-{self.sub_nr}_ses-{self.ses_nr}_run-{self.run_nr}.mat\"\n",
    "f = dir + filename\n",
    "self.data = scipy.io.loadmat(f)[data_key]\n",
    "\n"
   ]
  }
 ],
 "metadata": {
  "kernelspec": {
   "display_name": "mne",
   "language": "python",
   "name": "python3"
  },
  "language_info": {
   "codemirror_mode": {
    "name": "ipython",
    "version": 3
   },
   "file_extension": ".py",
   "mimetype": "text/x-python",
   "name": "python",
   "nbconvert_exporter": "python",
   "pygments_lexer": "ipython3",
   "version": "3.9.7"
  },
  "orig_nbformat": 4
 },
 "nbformat": 4,
 "nbformat_minor": 2
}
