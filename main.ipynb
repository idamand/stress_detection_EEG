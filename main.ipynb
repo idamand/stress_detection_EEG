{
 "cells": [
  {
   "cell_type": "code",
   "execution_count": 1,
   "id": "8511d7af",
   "metadata": {},
   "outputs": [],
   "source": [
    "from metrics import compute_metrics"
   ]
  }
 ],
 "metadata": {
  "kernelspec": {
   "display_name": "mne-final",
   "language": "python",
   "name": "python3"
  },
  "language_info": {
   "codemirror_mode": {
    "name": "ipython",
    "version": 3
   },
   "file_extension": ".py",
   "mimetype": "text/x-python",
   "name": "python",
   "nbconvert_exporter": "python",
   "pygments_lexer": "ipython3",
   "version": "3.10.9"
  },
  "vscode": {
   "interpreter": {
    "hash": "18c9f73662949cd603325d9f250cfb697e5ab4500c2a4089a0f94e52d4f2d4ef"
   }
  }
 },
 "nbformat": 4,
 "nbformat_minor": 5
}
