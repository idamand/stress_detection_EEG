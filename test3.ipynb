{
 "cells": [
  {
   "cell_type": "code",
   "execution_count": null,
   "metadata": {},
   "outputs": [],
   "source": [
    "from prepare_data import prepare_data\n",
    "from classifiers import knn"
   ]
  },
  {
   "cell_type": "code",
   "execution_count": null,
   "metadata": {},
   "outputs": [],
   "source": [
    "epoch_duration  = 5\n",
    "label_type      = 'STAI'\n",
    "data_type       = 'ssp'"
   ]
  },
  {
   "cell_type": "code",
   "execution_count": null,
   "metadata": {},
   "outputs": [],
   "source": [
    "ts = 'time_series'\n",
    "ts_train_data, ts_test_data, ts_train_labels, ts_test_labels = prepare_data(data_type=data_type, label_type=label_type, epoch_duration=epoch_duration, feature_type=ts)"
   ]
  },
  {
   "cell_type": "code",
   "execution_count": null,
   "metadata": {},
   "outputs": [],
   "source": [
    "knn(train_data=ts_train_data, test_data=ts_test_data, train_labels=ts_train_labels, test_labels=ts_test_labels)"
   ]
  },
  {
   "cell_type": "code",
   "execution_count": null,
   "metadata": {},
   "outputs": [],
   "source": [
    "entropy = 'entropy'\n",
    "train_entropy_data, test_entropy_data, train_entropy_labels, test_entropy_labels = prepare_data(data_type=data_type, label_type=label_type, epoch_duration=epoch_duration, feature_type=entropy)"
   ]
  },
  {
   "cell_type": "code",
   "execution_count": null,
   "metadata": {},
   "outputs": [],
   "source": [
    "knn(train_data=train_entropy_data, test_data=test_entropy_data, train_labels=train_entropy_labels, test_labels=test_entropy_labels)"
   ]
  },
  {
   "cell_type": "code",
   "execution_count": null,
   "metadata": {},
   "outputs": [],
   "source": [
    "hjorth = 'hjorth'\n",
    "hjorth_train_data, hjorth_test_data, hjorth_train_labels, hjorth_test_labels = prepare_data(data_type=data_type, label_type=label_type, epoch_duration=epoch_duration, feature_type=hjorth)"
   ]
  },
  {
   "cell_type": "code",
   "execution_count": null,
   "metadata": {},
   "outputs": [],
   "source": [
    "knn(train_data=hjorth_train_data, test_data=hjorth_test_data, train_labels=hjorth_train_labels, test_labels=hjorth_test_labels)"
   ]
  },
  {
   "cell_type": "code",
   "execution_count": null,
   "metadata": {},
   "outputs": [],
   "source": [
    "psd = 'psd'\n",
    "psd_train_data, psd_test_data, psd_train_labels, psd_test_labels = prepare_data(data_type=data_type, label_type=label_type, epoch_duration=epoch_duration, feature_type=psd)"
   ]
  },
  {
   "cell_type": "code",
   "execution_count": null,
   "metadata": {},
   "outputs": [],
   "source": [
    "knn(train_data=psd_train_data, test_data=psd_test_data, train_labels=psd_train_labels, test_labels=psd_test_labels)"
   ]
  },
  {
   "cell_type": "code",
   "execution_count": null,
   "metadata": {},
   "outputs": [],
   "source": [
    "#hjorth_train_features = hjorth_features(train_data)\n",
    "#hjorth_test_features = hjorth_features(test_data)\n",
    "\n",
    "#entropy_train_features = entropy_features(train_data)\n",
    "#entropy_test_features = entropy_features(test_data)\n",
    "\n",
    "#psd_train_features = psd_features(train_data)\n",
    "#psd_test_features = psd_features(test_data)\n",
    "\n",
    "#ts_train_features = time_series_features(train_data)\n",
    "#ts_test_features = time_series_features(test_data)\n"
   ]
  }
 ],
 "metadata": {
  "kernelspec": {
   "display_name": "mne",
   "language": "python",
   "name": "python3"
  },
  "language_info": {
   "codemirror_mode": {
    "name": "ipython",
    "version": 3
   },
   "file_extension": ".py",
   "mimetype": "text/x-python",
   "name": "python",
   "nbconvert_exporter": "python",
   "pygments_lexer": "ipython3",
   "version": "3.10.11"
  },
  "orig_nbformat": 4
 },
 "nbformat": 4,
 "nbformat_minor": 2
}
